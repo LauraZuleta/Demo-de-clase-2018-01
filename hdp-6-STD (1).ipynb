{
 "cells": [
  {
   "cell_type": "markdown",
   "metadata": {},
   "source": [
    "**Recuerde no agregar o quitar celdas en este notebook, ni modificar su tipo. Si lo hace, el sistema automaticamente lo calificará con cero punto cero (0.0)**"
   ]
  },
  {
   "cell_type": "markdown",
   "metadata": {},
   "source": [
    "Obtenga los 5 registros con valores más pequeños en la tercera columna."
   ]
  },
  {
   "cell_type": "code",
   "execution_count": 29,
   "metadata": {},
   "outputs": [
    {
     "name": "stdout",
     "output_type": "stream",
     "text": [
      "Overwriting input.txt\n"
     ]
    }
   ],
   "source": [
    "%%writefile input.txt\n",
    "B   1999-08-28   14\n",
    "E   1999-12-06   121\n",
    "E   1993-07-21   17\n",
    "C   1991-02-12   2\n",
    "E   1995-04-25   161\n",
    "A   1992-08-22   14\n",
    "B   1999-06-11   12\n",
    "E   1993-01-27   8\n",
    "E   1999-09-10   11\n",
    "E   1990-05-03   16\n",
    "E   1994-02-14   101\n",
    "A   1988-04-27   9\n",
    "A   1990-10-06   10\n",
    "E   1985-02-12   16\n",
    "E   1998-09-14   7\n",
    "B   1994-08-30   17\n",
    "A   1997-12-15   13\n",
    "B   1995-08-23   101\n",
    "B   1998-11-22   13\n",
    "B   1997-04-09   6\n",
    "E   1993-12-27   181\n",
    "E   1999-01-14   15\n",
    "A   1992-09-19   18\n",
    "B   1993-03-02   14\n",
    "B   1999-10-21   131\n",
    "A   1990-08-31   12\n",
    "C   1994-01-25   10\n",
    "E   1990-02-09   18\n",
    "A   1990-09-26   5\n",
    "A   1993-05-08   16\n",
    "B   1995-09-06   141\n",
    "E   1991-02-18   14\n",
    "A   1993-01-11   141\n",
    "A   1990-07-22   4\n",
    "C   1994-09-09   151\n",
    "C   1994-07-27   1\n",
    "D   1990-10-10   151\n",
    "A   1990-09-05   11\n",
    "B   1991-10-01   151\n",
    "A   1994-10-25   13"
   ]
  },
  {
   "cell_type": "markdown",
   "metadata": {},
   "source": [
    "## Mapper"
   ]
  },
  {
   "cell_type": "code",
   "execution_count": 30,
   "metadata": {},
   "outputs": [
    {
     "name": "stdout",
     "output_type": "stream",
     "text": [
      "Overwriting mapper.py\n"
     ]
    }
   ],
   "source": [
    "%%writefile mapper.py\n",
    "#! /usr/bin/env python3\n",
    "import sys\n",
    "import itertools\n",
    "\n",
    "class Mapper():\n",
    "    def __init__(self,stream):\n",
    "        self.stream=stream\n",
    "    def emit(self,key,value):\n",
    "        sys.stdout.write(\"{},{}\\n\".format(key,value))\n",
    "    def __iter__(self):\n",
    "        for line in self.stream:\n",
    "            key=line.split(\" \")[0]\n",
    "            val=float(line.split(\" \")[6])\n",
    "            yield(key,val)\n",
    "    def map(self):\n",
    "        for key, val in self:\n",
    "            self.emit(key=key,value=val)\n",
    "\n",
    "if __name__ == \"__main__\": \n",
    "    mapper=Mapper(sys.stdin)\n",
    "    mapper.map()"
   ]
  },
  {
   "cell_type": "markdown",
   "metadata": {},
   "source": [
    "## Reducer"
   ]
  },
  {
   "cell_type": "code",
   "execution_count": 31,
   "metadata": {},
   "outputs": [
    {
     "name": "stdout",
     "output_type": "stream",
     "text": [
      "Overwriting reducer.py\n"
     ]
    }
   ],
   "source": [
    "%%writefile reducer.py\n",
    "#!/usr/bin/env python\n",
    "\n",
    "import sys\n",
    "import itertools\n",
    "\n",
    "class Reducer():\n",
    "    def __init__(self,stream):\n",
    "        self.stream=stream\n",
    "    def emit(self,key,value):\n",
    "        sys.stdout.write(\"{},{}\\n\".format(key,value))\n",
    "    def __iter__(self):\n",
    "        for line in self.stream:\n",
    "            key=line.split(\",\")[0]\n",
    "            value=float(line.split(\",\")[1])\n",
    "            yield(key,value)\n",
    "    def reduce(self):\n",
    "        lista=[]\n",
    "        for key, group in itertools.groupby(self,lambda x:x[0]):\n",
    "            for key, value in group:\n",
    "                lista.append((key,value))\n",
    "            lista.sort(key=lambda x: x[1],reverse=False)\n",
    "            \n",
    "        for i in lista[:5]:\n",
    "            self.emit(key=i[0],value=i[1])\n",
    "           \n",
    "                \n",
    "\n",
    "if __name__ == '__main__': \n",
    "    reducer=Reducer(sys.stdin)\n",
    "    reducer.reduce()"
   ]
  },
  {
   "cell_type": "markdown",
   "metadata": {},
   "source": [
    "## Ejecución"
   ]
  },
  {
   "cell_type": "code",
   "execution_count": 32,
   "metadata": {},
   "outputs": [
    {
     "name": "stdout",
     "output_type": "stream",
     "text": [
      "C,1.0\t\n",
      "C,2.0\t\n",
      "A,4.0\t\n",
      "A,5.0\t\n",
      "B,6.0\t\n"
     ]
    }
   ],
   "source": [
    "%%bash\n",
    "rm -rf output\n",
    "STREAM=$HADOOP_HOME/share/hadoop/tools/lib/hadoop-streaming-*.jar\n",
    "chmod +x mapper.py\n",
    "chmod +x reducer.py\n",
    "hadoop jar $STREAM -input input.txt -output output  -mapper mapper.py -reducer reducer.py\n",
    "cat output/part-00000"
   ]
  }
 ],
 "metadata": {
  "kernelspec": {
   "display_name": "Python 3",
   "language": "python",
   "name": "python3"
  },
  "language_info": {
   "codemirror_mode": {
    "name": "ipython",
    "version": 3
   },
   "file_extension": ".py",
   "mimetype": "text/x-python",
   "name": "python",
   "nbconvert_exporter": "python",
   "pygments_lexer": "ipython3",
   "version": "3.6.6"
  },
  "toc": {
   "base_numbering": 1,
   "nav_menu": {},
   "number_sections": false,
   "sideBar": true,
   "skip_h1_title": true,
   "title_cell": "Table of Contents",
   "title_sidebar": "Contents",
   "toc_cell": false,
   "toc_position": {},
   "toc_section_display": true,
   "toc_window_display": true
  },
  "toc-autonumbering": false
 },
 "nbformat": 4,
 "nbformat_minor": 2
}
