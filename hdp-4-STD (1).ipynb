{
 "cells": [
  {
   "cell_type": "markdown",
   "metadata": {},
   "source": [
    "**Recuerde no agregar o quitar celdas en este notebook, ni modificar su tipo. Si lo hace, el sistema automaticamente lo calificará con cero punto cero (0.0)**"
   ]
  },
  {
   "cell_type": "markdown",
   "metadata": {},
   "source": [
    "Ordene el archivo por letra y valor (3ra columna)."
   ]
  },
  {
   "cell_type": "code",
   "execution_count": 56,
   "metadata": {},
   "outputs": [
    {
     "name": "stdout",
     "output_type": "stream",
     "text": [
      "Overwriting input.txt\n"
     ]
    }
   ],
   "source": [
    "%%writefile input.txt\n",
    "B   1999-08-28   14\n",
    "E   1999-12-06   12\n",
    "E   1993-07-21   9\n",
    "C   1991-02-12   13\n",
    "E   1995-04-25   2\n",
    "A   1992-08-22   14\n",
    "B   1999-06-11   121\n",
    "E   1993-01-27   9\n",
    "E   1999-09-10   11\n",
    "E   1990-05-03   16\n",
    "E   1994-02-14   10\n",
    "A   1988-04-27   121\n",
    "A   1990-10-06   10\n",
    "E   1985-02-12   16\n",
    "E   1998-09-14   2\n",
    "B   1994-08-30   17\n",
    "A   1997-12-15   13\n",
    "B   1995-08-23   1\n",
    "B   1998-11-22   131\n",
    "B   1997-04-09   14\n",
    "E   1993-12-27   18\n",
    "E   1999-01-14   15\n",
    "A   1992-09-19   8\n",
    "B   1993-03-02   14\n",
    "B   1999-10-21   13\n",
    "A   1990-08-31   12\n",
    "C   1994-01-25   10\n",
    "E   1990-02-09   18\n",
    "A   1990-09-26   8\n",
    "A   1993-05-08   16\n",
    "B   1995-09-06   14\n",
    "E   1991-02-18   141\n",
    "A   1993-01-11   14\n",
    "A   1990-07-22   0\n",
    "C   1994-09-09   15\n",
    "C   1994-07-27   104\n",
    "D   1990-10-10   15\n",
    "A   1990-09-05   11\n",
    "B   1991-10-01   9\n",
    "A   1994-10-25   13"
   ]
  },
  {
   "cell_type": "markdown",
   "metadata": {},
   "source": [
    "## Mapper"
   ]
  },
  {
   "cell_type": "code",
   "execution_count": 57,
   "metadata": {},
   "outputs": [
    {
     "name": "stdout",
     "output_type": "stream",
     "text": [
      "Overwriting mapper.py\n"
     ]
    }
   ],
   "source": [
    "%%writefile mapper.py\n",
    "#! /usr/bin/env python3\n",
    "import sys\n",
    "import itertools\n",
    "\n",
    "class Mapper():\n",
    "    def __init__(self,stream):\n",
    "        self.stream=stream\n",
    "    def emit(self,key,value):\n",
    "        sys.stdout.write(\"{},{}\\n\".format(key,value))\n",
    "    def __iter__(self):\n",
    "        for line in self.stream:\n",
    "            key=line.split(\" \")[0]\n",
    "            val=float(line.split(\" \")[6])\n",
    "            yield(key,val)\n",
    "    def map(self):\n",
    "        for key, val in self:\n",
    "            self.emit(key=key,value=val)\n",
    "\n",
    "if __name__ == \"__main__\": \n",
    "    mapper=Mapper(sys.stdin)\n",
    "    mapper.map()"
   ]
  },
  {
   "cell_type": "markdown",
   "metadata": {},
   "source": [
    "## Reducer"
   ]
  },
  {
   "cell_type": "code",
   "execution_count": 60,
   "metadata": {},
   "outputs": [
    {
     "name": "stdout",
     "output_type": "stream",
     "text": [
      "Overwriting reducer.py\n"
     ]
    }
   ],
   "source": [
    "%%writefile reducer.py\n",
    "#!/usr/bin/env python\n",
    "\n",
    "import sys\n",
    "import itertools\n",
    "\n",
    "class Reducer():\n",
    "    def __init__(self,stream):\n",
    "        self.stream=stream\n",
    "    def emit(self,key,value):\n",
    "        sys.stdout.write(\"{},{}\\n\".format(key,value))\n",
    "    def __iter__(self):\n",
    "        for line in self.stream:\n",
    "            key=line.split(\",\")[0]\n",
    "            value=float(line.split(\",\")[1])\n",
    "            yield(key,value)\n",
    "    def reduce(self):\n",
    "        lista=[]\n",
    "        for key, group in itertools.groupby(self,lambda x:x[0]):\n",
    "            for key, value in group:\n",
    "                lista.append((key,value))\n",
    "                \n",
    "        lista.sort(key=lambda x:x[1], reverse=False)\n",
    "        lista.sort(key=lambda x:x[0], reverse=False)\n",
    "        \n",
    "        for i in lista:\n",
    "            self.emit(key=i[0], value=i[1])\n",
    "                \n",
    "\n",
    "if __name__ == '__main__': \n",
    "    reducer=Reducer(sys.stdin)\n",
    "    reducer.reduce()"
   ]
  },
  {
   "cell_type": "markdown",
   "metadata": {},
   "source": [
    "## Ejecución"
   ]
  },
  {
   "cell_type": "code",
   "execution_count": 61,
   "metadata": {},
   "outputs": [
    {
     "name": "stdout",
     "output_type": "stream",
     "text": [
      "A,0.0\t\n",
      "A,8.0\t\n",
      "A,8.0\t\n",
      "A,10.0\t\n",
      "A,11.0\t\n",
      "A,12.0\t\n",
      "A,13.0\t\n",
      "A,13.0\t\n",
      "A,14.0\t\n",
      "A,14.0\t\n",
      "A,16.0\t\n",
      "A,121.0\t\n",
      "B,1.0\t\n",
      "B,9.0\t\n",
      "B,13.0\t\n",
      "B,14.0\t\n",
      "B,14.0\t\n",
      "B,14.0\t\n",
      "B,14.0\t\n",
      "B,17.0\t\n",
      "B,121.0\t\n",
      "B,131.0\t\n",
      "C,10.0\t\n",
      "C,13.0\t\n",
      "C,15.0\t\n",
      "C,104.0\t\n",
      "D,15.0\t\n",
      "E,2.0\t\n",
      "E,2.0\t\n",
      "E,9.0\t\n",
      "E,9.0\t\n",
      "E,10.0\t\n",
      "E,11.0\t\n",
      "E,12.0\t\n",
      "E,15.0\t\n",
      "E,16.0\t\n",
      "E,16.0\t\n",
      "E,18.0\t\n",
      "E,18.0\t\n",
      "E,141.0\t\n"
     ]
    }
   ],
   "source": [
    "%%bash\n",
    "rm -rf output\n",
    "STREAM=$HADOOP_HOME/share/hadoop/tools/lib/hadoop-streaming-*.jar\n",
    "chmod +x mapper.py\n",
    "chmod +x reducer.py\n",
    "hadoop jar $STREAM -input input.txt -output output  -mapper mapper.py -reducer reducer.py\n",
    "cat output/part-00000"
   ]
  }
 ],
 "metadata": {
  "kernelspec": {
   "display_name": "Python 3",
   "language": "python",
   "name": "python3"
  },
  "language_info": {
   "codemirror_mode": {
    "name": "ipython",
    "version": 3
   },
   "file_extension": ".py",
   "mimetype": "text/x-python",
   "name": "python",
   "nbconvert_exporter": "python",
   "pygments_lexer": "ipython3",
   "version": "3.6.6"
  },
  "toc": {
   "base_numbering": 1,
   "nav_menu": {},
   "number_sections": false,
   "sideBar": true,
   "skip_h1_title": true,
   "title_cell": "Table of Contents",
   "title_sidebar": "Contents",
   "toc_cell": false,
   "toc_position": {},
   "toc_section_display": true,
   "toc_window_display": true
  },
  "toc-autonumbering": false
 },
 "nbformat": 4,
 "nbformat_minor": 2
}
