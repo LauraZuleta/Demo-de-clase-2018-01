{
 "cells": [
  {
   "cell_type": "markdown",
   "metadata": {},
   "source": [
    "**Recuerde no agregar o quitar celdas en este notebook, ni modificar su tipo. Si lo hace, el sistema automaticamente lo calificará con cero punto cero (0.0)**"
   ]
  },
  {
   "cell_type": "markdown",
   "metadata": {},
   "source": [
    "Obtenga las letras asociadas a cada clave para el siguiente archivo."
   ]
  },
  {
   "cell_type": "code",
   "execution_count": 168,
   "metadata": {},
   "outputs": [
    {
     "name": "stdout",
     "output_type": "stream",
     "text": [
      "Overwriting input.txt\n"
     ]
    }
   ],
   "source": [
    "%%writefile input.txt\n",
    "0 \t C,F,A,B,D,I,H\n",
    "1 \t A,H,C,I,F,D,B\n",
    "2 \t B,H,I,F,G\n",
    "3 \t C,B,D\n",
    "4 \t D,C,I,G,H\n",
    "5 \t B,D,C,H,A\n",
    "6 \t H,D,C,B,G,F,D\n",
    "7 \t F,A,G,C,B,D,H,I\n",
    "8 \t F,A,I,B,D\n",
    "9 \t F,A,B,D,C,D,G,I\n",
    "10 \t D,B,A,C,H\n",
    "11 \t G,D,B,H,I,C,F\n",
    "12 \t D,D,C,F,B,A,H,G\n",
    "13 \t F,A,D\n",
    "14 \t D,A,C,G\n",
    "15 \t H,A,F,D,B,C,G,I\n",
    "16 \t A,I,B,D\n",
    "17 \t C,B,G,A,D,H,F\n",
    "18 \t I,B,A,H,D,F\n",
    "19 \t B,D,F,D,I\n",
    "20 \t C,B,H,F,I,G,D,D\n",
    "21 \t F,A,B,C,G,D\n",
    "22 \t I,G,F,C,H,B\n",
    "23 \t H,F,C,B,D,D,A\n",
    "24 \t F,D,G,A,H\n",
    "25 \t G,H,B,C,A,F,I\n",
    "26 \t G,F,B,A,H,D,D,I\n",
    "27 \t B,A,H,I,D,G,F\n",
    "28 \t A,H,D,F,C\n",
    "29 \t C,D,A,F,G,B,H,D"
   ]
  },
  {
   "cell_type": "markdown",
   "metadata": {},
   "source": [
    "## Mapper"
   ]
  },
  {
   "cell_type": "code",
   "execution_count": 169,
   "metadata": {},
   "outputs": [
    {
     "name": "stdout",
     "output_type": "stream",
     "text": [
      "Overwriting mapper.py\n"
     ]
    }
   ],
   "source": [
    "%%writefile mapper.py\n",
    "#! /usr/bin/env python\n",
    "\n",
    "import sys\n",
    "class Mapper:\n",
    "    \n",
    "    def __init__(self, stream):\n",
    "        self.stream = stream\n",
    "    \n",
    "    def emit(self, key, value):\n",
    "        sys.stdout.write(\"{}\\t{}\\n\".format(key, value))         \n",
    "            \n",
    "    def __iter__(self):\n",
    "\n",
    "        for line in self.stream:            \n",
    "            val = int(line.split()[0])         \n",
    "            for word in (line.split()[1]).split(\",\"):              \n",
    "                yield (word , val)\n",
    "\n",
    "         \n",
    "    def map(self):\n",
    "\n",
    "        for val, word  in self:\n",
    "            self.emit(key= val, value = word)               \n",
    "    \n",
    "\n",
    "if __name__ == \"__main__\": \n",
    "    mapper = Mapper(sys.stdin)\n",
    "    mapper.map()"
   ]
  },
  {
   "cell_type": "markdown",
   "metadata": {},
   "source": [
    "## Reducer"
   ]
  },
  {
   "cell_type": "code",
   "execution_count": 170,
   "metadata": {},
   "outputs": [
    {
     "name": "stdout",
     "output_type": "stream",
     "text": [
      "Overwriting reducer.py\n"
     ]
    }
   ],
   "source": [
    "%%writefile reducer.py\n",
    "#!/usr/bin/env python\n",
    "\n",
    "import sys\n",
    "import itertools\n",
    "\n",
    "class Reducer():\n",
    "    def __init__(self,stream):\n",
    "        self.stream=stream\n",
    "    def emit(self,key,value):\n",
    "        sys.stdout.write(\"{}\\t{}\\n\".format(key,value))\n",
    "    def __iter__(self):\n",
    "        for line in self.stream:\n",
    "            key=line.split()[0]\n",
    "            value=int(line.split()[1])\n",
    "            yield(key,value)\n",
    "    def reduce(self):\n",
    "        for key, group in itertools.groupby(self,lambda x:x[0]):\n",
    "            lista=[]\n",
    "            for key, value in group:\n",
    "                lista.append((value))\n",
    "\n",
    "            self.emit(key=key, value=lista)                \n",
    "\n",
    "if __name__ == '__main__': \n",
    "    reducer=Reducer(sys.stdin)\n",
    "    reducer.reduce()"
   ]
  },
  {
   "cell_type": "markdown",
   "metadata": {},
   "source": [
    "## Ejecución"
   ]
  },
  {
   "cell_type": "code",
   "execution_count": 171,
   "metadata": {},
   "outputs": [
    {
     "name": "stdout",
     "output_type": "stream",
     "text": [
      "A\t[1, 18, 26, 21, 10, 7, 0, 12, 25, 8, 27, 13, 14, 15, 24, 29, 16, 28, 23, 9, 17, 5]\n",
      "B\t[22, 19, 20, 21, 1, 29, 2, 3, 5, 6, 7, 27, 8, 9, 26, 11, 12, 0, 25, 15, 16, 17, 23, 18, 10]\n",
      "C\t[0, 29, 28, 25, 23, 22, 21, 20, 17, 15, 14, 12, 11, 10, 9, 7, 6, 5, 4, 3, 1]\n",
      "D\t[19, 19, 18, 17, 23, 23, 1, 16, 24, 15, 14, 13, 29, 12, 12, 11, 10, 9, 9, 26, 26, 8, 7, 27, 6, 0, 6, 5, 4, 3, 28, 21, 20, 20, 29]\n",
      "F\t[18, 25, 6, 20, 9, 0, 1, 23, 11, 8, 24, 27, 28, 17, 21, 19, 13, 29, 26, 12, 22, 7, 15, 2]\n",
      "G\t[22, 6, 27, 26, 11, 25, 2, 9, 20, 24, 14, 21, 15, 12, 29, 17, 7, 4]\n",
      "H\t[25, 12, 1, 11, 10, 26, 0, 2, 20, 27, 7, 22, 6, 18, 23, 17, 5, 28, 4, 24, 15, 29]\n",
      "I\t[7, 16, 25, 15, 8, 26, 2, 9, 11, 4, 22, 18, 20, 0, 27, 19, 1]\n"
     ]
    }
   ],
   "source": [
    "%%bash\n",
    "rm -rf output\n",
    "STREAM=$HADOOP_HOME/share/hadoop/tools/lib/hadoop-streaming-*.jar\n",
    "chmod +x mapper.py\n",
    "chmod +x reducer.py\n",
    "hadoop jar $STREAM -input input.txt -output output  -mapper mapper.py -reducer reducer.py\n",
    "cat output/part-00000"
   ]
  }
 ],
 "metadata": {
  "kernelspec": {
   "display_name": "Python 3",
   "language": "python",
   "name": "python3"
  },
  "language_info": {
   "codemirror_mode": {
    "name": "ipython",
    "version": 3
   },
   "file_extension": ".py",
   "mimetype": "text/x-python",
   "name": "python",
   "nbconvert_exporter": "python",
   "pygments_lexer": "ipython3",
   "version": "3.5.2"
  },
  "toc": {
   "base_numbering": 1,
   "nav_menu": {},
   "number_sections": false,
   "sideBar": true,
   "skip_h1_title": true,
   "title_cell": "Table of Contents",
   "title_sidebar": "Contents",
   "toc_cell": false,
   "toc_position": {},
   "toc_section_display": true,
   "toc_window_display": true
  },
  "toc-autonumbering": false
 },
 "nbformat": 4,
 "nbformat_minor": 2
}
